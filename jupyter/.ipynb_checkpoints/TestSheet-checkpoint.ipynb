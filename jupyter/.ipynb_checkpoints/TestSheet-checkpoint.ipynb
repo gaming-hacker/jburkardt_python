{
 "cells": [
  {
   "cell_type": "markdown",
   "metadata": {},
   "source": [
    "### Test if all packages are installed"
   ]
  },
  {
   "cell_type": "code",
   "execution_count": 1,
   "metadata": {
    "collapsed": true
   },
   "outputs": [],
   "source": [
    "import numpy as np\n",
    "import matplotlib as mplt\n",
    "import matplotlib.pyplot as plt\n",
    "from copy import deepcopy\n",
    "from functools import reduce"
   ]
  },
  {
   "cell_type": "markdown",
   "metadata": {},
   "source": [
    "### Test `numpy`"
   ]
  },
  {
   "cell_type": "code",
   "execution_count": 2,
   "metadata": {
    "collapsed": false
   },
   "outputs": [
    {
     "name": "stdout",
     "output_type": "stream",
     "text": [
      "Running unit tests for numpy\n",
      "NumPy version 1.14.2\n",
      "NumPy relaxed strides checking option: True\n",
      "NumPy is installed in /home/jburkardt/anaconda2/lib/python2.7/site-packages/numpy\n",
      "Python version 2.7.13 |Anaconda 4.3.1 (64-bit)| (default, Dec 20 2016, 23:09:15) [GCC 4.4.7 20120313 (Red Hat 4.4.7-1)]\n",
      "nose version 1.3.7\n"
     ]
    },
    {
     "name": "stderr",
     "output_type": "stream",
     "text": [
      "............................K......................................................................................................................................................................................................................................................................................................................................................................................................................................S.S..SS...SSS.KKK...............................................................................................................................................................................................................................................................................................................................................................................................................................................................................................................................................................................................................................................................................................................................................................................................................................................................................................................................................................................................................................................................................................................................................................S...........................................................KK...........................................................................................................S.................................................................................................................................................................................................S..............................................................................................................................................................................................................................................................................................................................................K...........................................................................................................................................................................................................................................................................................................................................SSS........................................................................................................................................................................................................F........................................................................................K................................................................................................................................................................................................................................................................................................................................................................K......................K.....................................................................................................................................................................................................................................................................................................................................................................................................................................................................................................................................................................................................................................................................................................................................................................................................................................................................................................................................................................................................................................................................................................................................................................................................................................................................................................................................................................................................................................................................................................................................S............................................................................S.........................SSSSSSSSS........................................................................................................................................................................K........................................................F..........................................................................................................................................................................................................................................................................................................................................................................................................................................................................................................................................................................................................................................................................................................................................K...K..........................................................................................................................................................................................................................................................................................................................................................................................................................................................................................................................................................................................................................................................................................................................................................................................................................................................................................................................................................................................................................\n",
      "======================================================================\n",
      "FAIL: numpy.core.tests.test_regression.TestRegression.test_refcount_vdot\n",
      "----------------------------------------------------------------------\n",
      "Traceback (most recent call last):\n",
      "  File \"/home/jburkardt/anaconda2/lib/python2.7/site-packages/nose/case.py\", line 197, in runTest\n",
      "    self.test(*self.arg)\n",
      "  File \"/home/jburkardt/anaconda2/lib/python2.7/site-packages/numpy/core/tests/test_regression.py\", line 648, in test_refcount_vdot\n",
      "    _assert_valid_refcount(np.vdot)\n",
      "  File \"/home/jburkardt/anaconda2/lib/python2.7/site-packages/numpy/testing/nose_tools/utils.py\", line 1337, in _assert_valid_refcount\n",
      "    assert_(sys.getrefcount(i) >= rc)\n",
      "  File \"/home/jburkardt/anaconda2/lib/python2.7/site-packages/numpy/testing/nose_tools/utils.py\", line 93, in assert_\n",
      "    raise AssertionError(smsg)\n",
      "AssertionError\n",
      "\n",
      "======================================================================\n",
      "FAIL: numpy.lib.tests.test_regression.TestRegression.test_refcount_vectorize\n",
      "----------------------------------------------------------------------\n",
      "Traceback (most recent call last):\n",
      "  File \"/home/jburkardt/anaconda2/lib/python2.7/site-packages/nose/case.py\", line 197, in runTest\n",
      "    self.test(*self.arg)\n",
      "  File \"/home/jburkardt/anaconda2/lib/python2.7/site-packages/numpy/lib/tests/test_regression.py\", line 55, in test_refcount_vectorize\n",
      "    _assert_valid_refcount(v)\n",
      "  File \"/home/jburkardt/anaconda2/lib/python2.7/site-packages/numpy/testing/nose_tools/utils.py\", line 1337, in _assert_valid_refcount\n",
      "    assert_(sys.getrefcount(i) >= rc)\n",
      "  File \"/home/jburkardt/anaconda2/lib/python2.7/site-packages/numpy/testing/nose_tools/utils.py\", line 93, in assert_\n",
      "    raise AssertionError(smsg)\n",
      "AssertionError\n",
      "\n",
      "----------------------------------------------------------------------\n",
      "Ran 6806 tests in 30.483s\n",
      "\n",
      "FAILED (KNOWNFAIL=13, SKIP=24, failures=2)\n"
     ]
    },
    {
     "data": {
      "text/plain": [
       "<nose.result.TextTestResult run=6806 errors=0 failures=2>"
      ]
     },
     "execution_count": 2,
     "metadata": {},
     "output_type": "execute_result"
    }
   ],
   "source": [
    "np.test()"
   ]
  },
  {
   "cell_type": "markdown",
   "metadata": {},
   "source": [
    "Gelegentlich gibt es hier \"failures\", diese sind aber nicht weiter schlimm."
   ]
  },
  {
   "cell_type": "markdown",
   "metadata": {},
   "source": [
    "### Test `matplotlib`"
   ]
  },
  {
   "cell_type": "code",
   "execution_count": 6,
   "metadata": {
    "collapsed": false
   },
   "outputs": [
    {
     "data": {
      "image/png": "[encoded data removed]",
      "text/plain": [
       "<Figure size 432x288 with 1 Axes>"
      ]
     },
     "metadata": {},
     "output_type": "display_data"
    }
   ],
   "source": [
    "t = np.arange(0.0, 2.0, 0.01)\n",
    "s = 1 + np.cos(2*np.pi*t)\n",
    "plt.plot(t, s)\n",
    "\n",
    "plt.xlabel('time (s)')\n",
    "plt.ylabel('voltage (mV)')\n",
    "plt.title('Ein Plot')\n",
    "plt.grid(True)\n",
    "plt.show()"
   ]
  },
  {
   "cell_type": "markdown",
   "metadata": {},
   "source": [
    "### Test `reduce`"
   ]
  },
  {
   "cell_type": "code",
   "execution_count": 10,
   "metadata": {
    "collapsed": false
   },
   "outputs": [
    {
     "name": "stdout",
     "output_type": "stream",
     "text": [
      "4950\n"
     ]
    }
   ],
   "source": [
    "print(reduce(lambda x,y:x+y,np.arange(100)))"
   ]
  }
 ],
 "metadata": {
  "kernelspec": {
   "display_name": "Python 2",
   "language": "python",
   "name": "python2"
  },
  "language_info": {
   "codemirror_mode": {
    "name": "ipython",
    "version": 2
   },
   "file_extension": ".py",
   "mimetype": "text/x-python",
   "name": "python",
   "nbconvert_exporter": "python",
   "pygments_lexer": "ipython2",
   "version": "2.7.13"
  }
 },
 "nbformat": 4,
 "nbformat_minor": 2
}
